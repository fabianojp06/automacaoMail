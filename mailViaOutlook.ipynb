{
 "cells": [
  {
   "cell_type": "code",
   "execution_count": 1,
   "metadata": {},
   "outputs": [],
   "source": [
    "from selenium import webdriver as opcoesSelenium\n",
    "\n",
    "from selenium.webdriver.common.by import By\n",
    "\n",
    "from selenium.webdriver.common.keys import Keys\n",
    "\n",
    "import pyautogui as py\n",
    "\n",
    "import win32com.client as win32\n",
    "\n",
    "\n"
   ]
  },
  {
   "cell_type": "code",
   "execution_count": 13,
   "metadata": {},
   "outputs": [],
   "source": [
    "import win32com.client as win32\n",
    "\n",
    "outlook = win32.Dispatch('Outlook.application')\n",
    "\n",
    "emailOutlook = outlook.CreateItem(0)\n",
    "\n",
    "email = \"fabianojp06@gmail.com\"\n",
    "variavelNome = \"Fabiano\"\n",
    "\n",
    "emailOutlook.to = email\n",
    "emailOutlook.Subject = \"Envio de RPA -> Teste\"\n",
    "\n",
    "emailOutlook.HTMLBody = f\"\"\"\"\n",
    "<p>Boa Noite <b>{variavelNome}</b>.</p>\n",
    "<p><font color=\"red\"><b><u>Esse é apenas um e-mail de teste.<b/></u></p>\n",
    "<p>Atenciosamente.</p>\n",
    "<p><img src= \"C:\\\\Users\\\\fabia\\\\Pictures\\\\Screenshots\\\\123456.png\">.</p>\n",
    "\"\"\"\n",
    "\n",
    "\n",
    "emailOutlook.Save()\n",
    "\n"
   ]
  },
  {
   "cell_type": "code",
   "execution_count": null,
   "metadata": {},
   "outputs": [],
   "source": [
    "import win32com.client as win32\n",
    "\n",
    "outlook = win32.Dispatch('Outlook.application')\n",
    "\n",
    "emailOutlook = outlook.CreateItem(0)\n",
    "\n",
    "email = \"fabianojp06@gmail.com\"\n",
    "variavelNome = \"Fabiano\"\n",
    "\n",
    "emailOutlook.to = email\n",
    "emailOutlook.Subject = \"Envio de RPA -> Teste\"\n",
    "\n",
    "emailOutlook.HTMLBody = f\"\"\"\"\n",
    "<p>Boa Noite <b>{variavelNome}</b>.</p>\n",
    "<p><font color=\"red\"><b><u>Esse é apenas um e-mail de teste.<b/></u></p>\n",
    "<p>Atenciosamente.</p>\n",
    "<p><img src= \"C:\\\\Users\\\\fabia\\\\Pictures\\\\Screenshots\\\\123456.png\">.</p>\n",
    "\"\"\"\n",
    "\n",
    "\n",
    "emailOutlook.Save()\n",
    "\n"
   ]
  },
  {
   "cell_type": "code",
   "execution_count": 1,
   "metadata": {},
   "outputs": [
    {
     "ename": "com_error",
     "evalue": "(-2147352567, 'Exceção.', (4096, 'Microsoft Outlook', 'Não é possível localizar este arquivo. Verifique se o caminho e o nome do arquivo estão corretos.', None, 0, -2147024894), None)",
     "output_type": "error",
     "traceback": [
      "\u001b[1;31m---------------------------------------------------------------------------\u001b[0m",
      "\u001b[1;31mcom_error\u001b[0m                                 Traceback (most recent call last)",
      "Cell \u001b[1;32mIn[1], line 34\u001b[0m\n\u001b[0;32m     26\u001b[0m emailOutlook\u001b[38;5;241m.\u001b[39mHTMLBody \u001b[38;5;241m=\u001b[39m \u001b[38;5;124mf\u001b[39m\u001b[38;5;124m\"\"\"\u001b[39m\u001b[38;5;124m\"\u001b[39m\n\u001b[0;32m     27\u001b[0m \u001b[38;5;124m<p>Boa Noite <b>\u001b[39m\u001b[38;5;132;01m{\u001b[39;00mnome\u001b[38;5;132;01m}\u001b[39;00m\u001b[38;5;124m</b>.</p>\u001b[39m\n\u001b[0;32m     28\u001b[0m \u001b[38;5;124m<p>Teste de envio de e-mail com anexo.</p>\u001b[39m\n\u001b[0;32m     29\u001b[0m \u001b[38;5;124m<p>Atenciosamente.</p>\u001b[39m\n\u001b[0;32m     30\u001b[0m \u001b[38;5;124m\u001b[39m\n\u001b[0;32m     31\u001b[0m \u001b[38;5;124m\u001b[39m\u001b[38;5;124m\"\"\"\u001b[39m\n\u001b[0;32m     33\u001b[0m anexoMail \u001b[38;5;241m=\u001b[39m \u001b[38;5;124m\"\u001b[39m\u001b[38;5;124mE:\u001b[39m\u001b[38;5;130;01m\\\\\u001b[39;00m\u001b[38;5;124mprojRPA\u001b[39m\u001b[38;5;130;01m\\\\\u001b[39;00m\u001b[38;5;124mrpaChrome\u001b[39m\u001b[38;5;130;01m\\\\\u001b[39;00m\u001b[38;5;124mlistEmail.xlsx\u001b[39m\u001b[38;5;124m\"\u001b[39m \u001b[38;5;241m+\u001b[39m nomeCompleto \u001b[38;5;241m+\u001b[39m \u001b[38;5;124m\"\u001b[39m\u001b[38;5;124m.xlsx\u001b[39m\u001b[38;5;124m\"\u001b[39m\n\u001b[1;32m---> 34\u001b[0m \u001b[43memailOutlook\u001b[49m\u001b[38;5;241;43m.\u001b[39;49m\u001b[43mAttachments\u001b[49m\u001b[38;5;241;43m.\u001b[39;49m\u001b[43mAdd\u001b[49m\u001b[43m(\u001b[49m\u001b[43manexoMail\u001b[49m\u001b[43m)\u001b[49m\n\u001b[0;32m     35\u001b[0m \u001b[38;5;66;03m#email.Attachments.Add(anexoMail)\u001b[39;00m\n\u001b[0;32m     38\u001b[0m emailOutlook\u001b[38;5;241m.\u001b[39mSend()\n",
      "File \u001b[1;32m<COMObject <unknown>>:2\u001b[0m, in \u001b[0;36mAdd\u001b[1;34m(self, Source, Type, Position, DisplayName)\u001b[0m\n",
      "\u001b[1;31mcom_error\u001b[0m: (-2147352567, 'Exceção.', (4096, 'Microsoft Outlook', 'Não é possível localizar este arquivo. Verifique se o caminho e o nome do arquivo estão corretos.', None, 0, -2147024894), None)"
     ]
    }
   ],
   "source": [
    "from openpyxl import load_workbook\n",
    "import os\n",
    "\n",
    "import win32com.client as win32\n",
    "\n",
    "outlook = win32.Dispatch('Outlook.application')\n",
    "\n",
    "nomeCaminhoArquivo = \"E:\\\\projRPA\\\\rpaChrome\\\\listEmail.xlsx\"\n",
    "planilha_aberta = load_workbook(filename=nomeCaminhoArquivo)\n",
    "\n",
    "planilha_selecionada = planilha_aberta['Planilha1']\n",
    "\n",
    "for linha in range(2, len(planilha_selecionada['A']) + 1):\n",
    "\n",
    "\n",
    "    nome = planilha_selecionada['A%s' % linha].value\n",
    "    nomeCompleto = planilha_selecionada['B%s' % linha].value\n",
    "    endmail = planilha_selecionada['C%s' % linha].value\n",
    "\n",
    "\n",
    "    emailOutlook = outlook.CreateItem(0)\n",
    "\n",
    "    emailOutlook.to = endmail\n",
    "    emailOutlook.Subject = \"Envio de RPA -> Teste\" + nomeCompleto\n",
    "\n",
    "    emailOutlook.HTMLBody = f\"\"\"\"\n",
    "    <p>Boa Noite <b>{nome}</b>.</p>\n",
    "    <p>Teste de envio de e-mail com anexo.</p>\n",
    "    <p>Atenciosamente.</p>\n",
    "    \n",
    "    \"\"\"\n",
    "\n",
    "    anexoMail = \"E:\\\\projRPA\\\\rpaChrome\\\\listEmail.xlsx\" + nomeCompleto + \".xlsx\"\n",
    "    emailOutlook.Attachments.Add(anexoMail)\n",
    "    #email.Attachments.Add(anexoMail)\n",
    "\n",
    "\n",
    "    emailOutlook.Send()\n",
    "\n",
    "    print('E-mail enviado com sucesso')\n"
   ]
  }
 ],
 "metadata": {
  "kernelspec": {
   "display_name": "Python 3",
   "language": "python",
   "name": "python3"
  },
  "language_info": {
   "codemirror_mode": {
    "name": "ipython",
    "version": 3
   },
   "file_extension": ".py",
   "mimetype": "text/x-python",
   "name": "python",
   "nbconvert_exporter": "python",
   "pygments_lexer": "ipython3",
   "version": "3.12.4"
  }
 },
 "nbformat": 4,
 "nbformat_minor": 2
}
